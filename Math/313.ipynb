{
 "cells": [
  {
   "cell_type": "markdown",
   "metadata": {},
   "source": [
    "So the open set implies/demands continuious space.\n",
    "\n",
    "Dont know if I am sold on the definition of 'close' ness (seems like some ad-hoc measure of similarity). e.g. If A is close to b then it is in A... So open sets are arbitrarily large as long as they dont meet some sort of discontinuity? (lecturer - yes)\n",
    "\n",
    "Definition of a topological space. X where X is a specified collection of open sets. Wouldn't this also work with closed sets? (lecturer - yes)  What is the union of a set of closed sets? \n",
    "\n",
    "So a klien bottle is a mobuis strip rotated about 360 degrees, or in a higher dimension. So if you are on the surface of a klein bottle, you can travel in two dimensions. Up, which is the mobious strip, and across, wich is just a cylinder. Can you make it so that both directions result in the mobius strip? How many dimensions would you need to represent this? This could probably be stated (/claculated) mathematically.\n",
    "\n",
    "The union of a set of open sets it an open set? But this would infer that a surface is open??? Yes. To infinity , or looping back to itself.\n",
    "\n",
    "Does an open set have to be continuious? Define continuoius in this circumstance? We can continuiously go between integers, even though they are discrete???\n",
    "\n",
    "### Definition of a topological space\n",
    "The empty set and X itself belong to τ.\n",
    "Any (finite or infinite) union of members of τ still belongs to τ.\n",
    "The intersection of any finite number of members of τ still belongs to τ.\n",
    "\n",
    "The definition of a topological space reminds me of a group?!?\n",
    "The set X, under the operation Union, is ... must be a closure in X. Associative, commutative, ... inverse = ??,  Identity = {}.\n",
    "\n",
    "$\\mathcal{T} = \\{A \\subseteq X \\mid A=\\varnothing \\mbox{ or } X \\setminus A \\mbox{ is finite} \\}$\n",
    "\n",
    "A is open if (R - A) is finite.(Cofinite) Doesnt make any sense to me? \n",
    "As if A = (0,1) then (R-A) = [-\\infty,0],[1,\\infty] ???\n",
    "\n",
    "I think they mean something slightly different about closed and open sets. They seem to consider the union of open sets as the open set considered??? Oh, the complement of a closed set IS the union of all other open sets.\n",
    "\n",
    "### Neighourhood\n",
    "\n",
    "If A is a subset from a topological space T that contains a point p, we can say that p is in the neighbourhood of A.\n"
   ]
  }
 ],
 "metadata": {
  "kernelspec": {
   "display_name": "Python 3",
   "language": "python",
   "name": "python3"
  },
  "language_info": {
   "codemirror_mode": {
    "name": "ipython",
    "version": 3
   },
   "file_extension": ".py",
   "mimetype": "text/x-python",
   "name": "python",
   "nbconvert_exporter": "python",
   "pygments_lexer": "ipython3",
   "version": "3.5.1"
  }
 },
 "nbformat": 4,
 "nbformat_minor": 0
}
