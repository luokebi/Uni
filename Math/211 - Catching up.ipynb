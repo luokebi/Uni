{
 "cells": [
  {
   "cell_type": "markdown",
   "metadata": {},
   "source": [
    "# Sets and functions\n",
    "\n",
    "Traditional useage\n",
    "$$\n",
    "f(t) = 3t + 1 : t \\in \\mathbb{R} \\\\\n",
    "f : \\mathbb{R} → \\mathbb{R}, t  \\rightarrow 3t + 1 \\\\\n",
    "$$\n",
    "\n",
    "Can you map from one set to another?\n",
    "$$\n",
    "f(t) = 3t + 1 : t \\in \\mathbb{R} \\\\\n",
    "f : \\mathbb{R} → \\mathbb{Z}, t  \\rightarrow round(3t + 1) \\\\\n",
    "$$\n",
    "Is that legit?\n",
    "\n",
    "Like in haskell, or any other programming language. Where we can convert from strings to integert to floats, to ... ndarrays... All we need is a mapping function.\n",
    "\n",
    "# Sequences\n",
    "\n",
    "### Definition 2.1. \n",
    "Let $(x_{n})^{\\infty}_{n=1}$ be a sequence of real numbers and let a be a real number. Then we say that the sequence $(x_n)$ converges to a and thus we can write\n",
    "$$\n",
    "x_n \\rightarrow a \\; as \\; n \\rightarrow \\infty, \\quad or \\quad \\lim n \\rightarrow \\infty \\\\\n",
    "x+n = a \\; \\text{if, for  every} \\;  \\epsilon > 0 \\\\\n",
    "\\text{there exists a number N (that may depend on} \\; \\epsilon) \\\\\n",
    "\\text{such that} \\|x_n − a\\| < \\epsilon \\; \\\\\n",
    "\\text{whenever} \\; n \\in \\mathbb{N} \\text{ satisfies} \\; n \\le N.\n",
    "$$\n",
    "\n",
    "This seems like a crappy definition. The sequence could be oscilating within $\\epsilon$? What is the definiton of converged? That it equals a single number and is not changing? $ \\lim_{n \\to c}f(n) = L $\n",
    "\n",
    "Aren't some infinities bigger than others? So if we say that $ \\lim_{n \\to \\infty}f(n) = L $ for example $L - \\frac{1}{n} = L - \\frac{1}{\\infty} = L - 0 = L$.\n",
    "\n",
    "But instead what if $f(n = \\infty) = L - \\frac{1000000000000000000000}{\\infty}$ .. surely this will take longer to converge.\n",
    "\n",
    "Oh, is the point the real numbers are sequences, or the real set is a set of sequences??"
   ]
  }
 ],
 "metadata": {
  "kernelspec": {
   "display_name": "Python 3",
   "language": "python",
   "name": "python3"
  },
  "language_info": {
   "codemirror_mode": {
    "name": "ipython",
    "version": 3
   },
   "file_extension": ".py",
   "mimetype": "text/x-python",
   "name": "python",
   "nbconvert_exporter": "python",
   "pygments_lexer": "ipython3",
   "version": "3.4.4"
  }
 },
 "nbformat": 4,
 "nbformat_minor": 0
}
