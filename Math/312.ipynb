{
 "cells": [
  {
   "cell_type": "markdown",
   "metadata": {},
   "source": [
    "### Sequences\n",
    "Suppose that a sequence $(x_n)_{n=1}^{\\infty} converges to real numbers a and b. Then a = b. Why is this useful? We can caluclate whether two things (equations?) are equal rather than analytically solving them.\n",
    "\n",
    "Proof. (by what method? by disproving the inverse)\n",
    "Assume $a \\ne b$.\n",
    "Set $\\epsilon = \\frac{\\| a - b\\|}{2}$  <- what??? why, how?\n",
    "... some algebra\n",
    "\n",
    "#### Geometric series\n",
    "\n",
    "$ 1 + 1/2 + 1/4 + 1/8 + \\dots $ converges to 2. \n",
    "$\\sum_{k=0}^\\infty ar^k = \\frac{a}{1-r} - 0 = \\frac{a}{1-r} = \\frac{1}{1-\\frac{1}{2}} = 2$\n",
    "So the next term to be added decreases faster than the infinity of added terms? Weird!!"
   ]
  }
 ],
 "metadata": {
  "kernelspec": {
   "display_name": "Python 3",
   "language": "python",
   "name": "python3"
  },
  "language_info": {
   "codemirror_mode": {
    "name": "ipython",
    "version": 3
   },
   "file_extension": ".py",
   "mimetype": "text/x-python",
   "name": "python",
   "nbconvert_exporter": "python",
   "pygments_lexer": "ipython3",
   "version": "3.5.1"
  }
 },
 "nbformat": 4,
 "nbformat_minor": 0
}
