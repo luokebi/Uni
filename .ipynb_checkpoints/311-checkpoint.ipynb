{
 "cells": [
  {
   "cell_type": "markdown",
   "metadata": {},
   "source": [
    "### Equivalence classes\n",
    "$\n",
    "x \\sim y \\\\\n",
    "[x] = [y] \\\\\n",
    "[x] \\cap [y] \\ne \\emptyset \\\\\n",
    "$\n",
    "\n",
    "this doesnt quite make sense to me, shouldn't it be a stronger condition? I thought that $[x] \\cap [y] \\ne \\emptyset  =  [x] = [y]$ ???\n",
    "\n",
    "If $[a] = \\{ x \\in X \\mid a \\sim x \\} = [x_i]$ ??\n",
    "If $ [x_{1},x_{55},x_{102}] = \\{ x \\in X \\mid a \\sim x \\}$ is it possible for $ \\{ x \\in X \\mid b \\sim x \\} = [x_{55}]$ or must it be the full equivalence class as $a == b$?\n"
   ]
  }
 ],
 "metadata": {
  "kernelspec": {
   "display_name": "Python 3",
   "language": "python",
   "name": "python3"
  },
  "language_info": {
   "codemirror_mode": {
    "name": "ipython",
    "version": 3
   },
   "file_extension": ".py",
   "mimetype": "text/x-python",
   "name": "python",
   "nbconvert_exporter": "python",
   "pygments_lexer": "ipython3",
   "version": "3.5.1"
  }
 },
 "nbformat": 4,
 "nbformat_minor": 0
}
