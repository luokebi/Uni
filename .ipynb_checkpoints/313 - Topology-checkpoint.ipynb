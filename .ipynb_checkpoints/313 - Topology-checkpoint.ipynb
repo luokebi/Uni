{
 "cells": [
  {
   "cell_type": "markdown",
   "metadata": {},
   "source": [
    "So the open set implies/demands continuious space.\n",
    "\n",
    "Dont know if I am sold on the definition of 'close' ness (seems like some ad-hoc measure of similarity). e.g. If A is close to b then it is in A... So open sets are arbitrarily large as long as they dont meet some sort of discontinuity? (lecturer - yes)\n",
    "\n",
    "Definition of a topological space. X where X is a specified collection of open sets. Wouldn't this also work with closed sets? (lecturer - yes)  What is the union of a set of closed sets? \n",
    "\n",
    "So a klien bottle is a mobuis strip rotated about 360 degrees, or in a higher dimension. So if you are on the surface of a klein bottle, you can travel in two dimensions. Up, which is the mobious strip, and across, wich is just a cylinder. Can you make it so that both directions result in the mobius strip? How many dimensions would you need to represent this? This could probably be stated (/claculated) mathematically.\n",
    "\n",
    "The union of a set of open sets it an open set? But this would infer that a surface is open??? Yes. To infinity , or looping back to itself."
   ]
  }
 ],
 "metadata": {
  "kernelspec": {
   "display_name": "Python 3",
   "language": "python",
   "name": "python3"
  },
  "language_info": {
   "codemirror_mode": {
    "name": "ipython",
    "version": 3
   },
   "file_extension": ".py",
   "mimetype": "text/x-python",
   "name": "python",
   "nbconvert_exporter": "python",
   "pygments_lexer": "ipython3",
   "version": "3.4.4"
  }
 },
 "nbformat": 4,
 "nbformat_minor": 0
}
