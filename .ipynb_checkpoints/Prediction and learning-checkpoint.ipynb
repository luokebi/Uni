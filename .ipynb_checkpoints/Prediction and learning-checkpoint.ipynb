{
 "cells": [
  {
   "cell_type": "markdown",
   "metadata": {},
   "source": [
    "* The rate of learning is important. The resource we are tracking is mistakes. E.g. polynomial time algorithms, sub linear error!\n",
    "* Computational complexity. Want is the minimum amount of errors that you have to make to learn a given data set.\n",
    "* Experts = bandit (but with less info?) - partial information (like reinformcement learning)\n",
    "  * Bandit, you have to explore.\n",
    "* Upper connfidence bound (or UC tree) leads to? -> monte carlo tree search\n",
    "\n",
    "So if the hessian matrix is positive definite then ??? the gradient is positive as it has real roots??\n",
    "\n",
    "### Regret. \n",
    "\n",
    "Difference between online learning and solving in hindsight.\n",
    "\n",
    "### Convex\n",
    "Is $\\| x^2 - y^2\\|$ a convex function? $ [ \\frac{\\partial^2 f }{\\partial x^2} \\frac{\\partial^2 f }{\\partial x \\partial y}; \\frac{\\partial^2 f }{\\partial x \\partial y} \\frac{\\partial^2 f }{\\partial y^2} = [2 0 ; 0 -2] $ \n",
    "So it has negaitve eigenvalues and thus ???(why?) is not convex.\n",
    "\n",
    "\n",
    "### Error complexity\n",
    "\n"
   ]
  }
 ],
 "metadata": {
  "kernelspec": {
   "display_name": "Python 3",
   "language": "python",
   "name": "python3"
  },
  "language_info": {
   "codemirror_mode": {
    "name": "ipython",
    "version": 3
   },
   "file_extension": ".py",
   "mimetype": "text/x-python",
   "name": "python",
   "nbconvert_exporter": "python",
   "pygments_lexer": "ipython3",
   "version": "3.5.1"
  }
 },
 "nbformat": 4,
 "nbformat_minor": 0
}
