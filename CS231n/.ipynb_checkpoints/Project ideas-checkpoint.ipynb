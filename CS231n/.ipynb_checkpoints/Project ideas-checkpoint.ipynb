{
 "cells": [
  {
   "cell_type": "markdown",
   "metadata": {},
   "source": [
    "# Networks\n",
    "\n",
    "So it seems to me that there are three main network types of interest, ones that have shown great results in the last few years: deep Q networks, convolutional networks and recurrent networks. \n",
    "\n",
    "* Make a CNN\n",
    "    * What other data has similar structure to images? \n",
    "* Make a RNN\n",
    "    * RNNs are good at learning sequences (reference/reason/justification). What other sequences would be interesting to learn? Movements and actions, proofs, ... (more abstractly, anything that can be described with language?)\n",
    "    * RNN with perfect memory (as oscillations) - bohmian mechanics abstraction\n",
    "    * \n",
    "* Make a R-CNN or C-RNN?\n",
    "* Pick a game and learn it with a DQN\n",
    "\n",
    "# Analysis\n",
    "\n",
    "More importantly, I want to know what the network is doing, I want to understand how the network is solving the given problem. So, what are the analysis tools that I need? \n",
    "* \n",
    "* Visualisations are an easy way for people to understand patterns.\n",
    "* "
   ]
  }
 ],
 "metadata": {
  "kernelspec": {
   "display_name": "Python 3",
   "language": "python",
   "name": "python3"
  },
  "language_info": {
   "codemirror_mode": {
    "name": "ipython",
    "version": 3
   },
   "file_extension": ".py",
   "mimetype": "text/x-python",
   "name": "python",
   "nbconvert_exporter": "python",
   "pygments_lexer": "ipython3",
   "version": "3.4.4"
  }
 },
 "nbformat": 4,
 "nbformat_minor": 0
}
