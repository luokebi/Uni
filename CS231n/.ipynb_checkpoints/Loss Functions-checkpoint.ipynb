{
 "cells": [
  {
   "cell_type": "markdown",
   "metadata": {},
   "source": [
    "# A exploration of loss functions\n",
    "\n",
    "### Contents\n",
    "\n",
    "* Definition\n",
    "* Motivation\n",
    "* A survey of commonly used loss functions\n",
    "    * 0-1 and hinge loss\n",
    "    * Linear and squared error\n",
    "    * Softmax and cross entropy\n",
    "    * ???\n",
    "    * Diminishing rewards/discounted rewards\n",
    "    * Kullback-Leibler cost\n",
    "* A discussion on loss function for different applications\n",
    "* Regret\n",
    "* Risk\n",
    "* Noise (and how it effects loss fuctions?)\n",
    "* PID controls\n",
    "* Learn?\n",
    "* Disguised loss functions ?\n",
    "* Questions for the future\n",
    "\n",
    "I need some toy problems that I can use to investigate each type of loss?\n",
    "\n",
    "### Definitions\n",
    "\n",
    "A [Loss function](https://en.wikipedia.org/wiki/Loss_function) is a function that maps an event or values of one or more variables onto a real number intuitively representing some \"cost\" associated with the event. So in the case of learning algorithms, in particular neural networks, the loss or cost is a metric for the accuracy of the networks compared to some desired behaviour. \n",
    "\n",
    "Error is ?!? We are optimising for zero error.\n",
    "\n",
    "An intuitive explanation.  Loss is.... And why are some measures better than others? Imagine, 3 years of hard work and you just finished writing a script, for a new movie. You send it to Disney, with high hopes. You get an email back! From no_reply@disney.com, \"Hi, Your script is bad. Regards Disney\". No what can you do with that information? Very little, and why is that? This tells you nothing about how to ...\n",
    "\n",
    "### Motivation\n",
    "\n",
    "Why bother? The loss function gives us something to optimise.\n",
    "\n",
    "Put simply, a loss function is a way of measuring how good or bad the solution is.\n",
    "\n",
    "We would also like to be able to tell the optimiser how to find the lowest error, otherwise we have to search every possible alternative. \n",
    "\n",
    "Loss should = How close it was to getting it right versus how close it was to getting it wrong? This excludes the possibility that two classifications are similar? (as we are trying to widen the distance between each representation?)\n",
    "\n",
    "We want to use as much information as possible.\n",
    "\n",
    "### A survey of commonly used loss functions\n",
    "\n",
    "##### The simplest possible - Right?\n",
    "\n",
    "Gives the minimal viable amount of information to be able to learn something(although, there are simpler loss functions used in ) Reinforcement learning is ...\n",
    "\n",
    "A lot of problems in traditional AI and computer science fall into this category. For example: ???. This causes problems later when we try to optimise the system, \n",
    "\n",
    "##### Right - wrong (1 - 0) and its extension hinge loss\n",
    "\n",
    "Hinge loss is commonly used in SVM classification, where $\\ell(y) = \\max(0, 1-t \\cdot y)$.\n",
    "\n",
    "##### Linear error\n",
    "\n",
    "In the case of a linear relationship, what do negative errors mean? If we tried to minimise error we would end up at negative infinity. \n",
    "\n",
    "We could use the absolute value function to fix this problem, also plotted below, but this makes the function discontinuious. Which means we would have be careful using derivatives (or maybe not?).\n",
    "\n",
    "We could use Newton iterations to find the zero, moving in small amounts each time (to account for the different data points? <- no we need to be changing the system, how do newton iterations help us do that?) (this is trivial? as it would only take one iteration? how does this make sense with multipule data points?)"
   ]
  },
  {
   "cell_type": "code",
   "execution_count": 5,
   "metadata": {
    "collapsed": false
   },
   "outputs": [
    {
     "data": {
      "text/plain": [
       "<matplotlib.legend.Legend at 0x1060f2e80>"
      ]
     },
     "execution_count": 5,
     "metadata": {},
     "output_type": "execute_result"
    },
    {
     "data": {
      "image/png": "[encoded data removed]",
      "text/plain": [
       "<matplotlib.figure.Figure at 0x105bf2dd8>"
      ]
     },
     "metadata": {},
     "output_type": "display_data"
    }
   ],
   "source": [
    "import matplotlib.pyplot as plt\n",
    "import numpy as np\n",
    "%matplotlib inline\n",
    "outputs = np.linspace(-2,4,21); target = [1]\n",
    "error = (target - outputs)\n",
    "plt.plot(outputs,error,label = 'Linear error')\n",
    "plt.plot(outputs,abs(error), c = 'green',label = 'Abs error')\n",
    "plt.xlabel('Neural net output')\n",
    "plt.ylabel('Error')\n",
    "plt.legend()"
   ]
  },
  {
   "cell_type": "markdown",
   "metadata": {},
   "source": [
    "##### Squared error\n",
    "\n",
    "It is common (where??) to use the squared error $error = \\frac{(target-out)^2}{2}$. As, it gives use a nice convex surface to optimise, and well defined gradients $\\frac{\\partial error}{\\partial out} = target - out $\n",
    "\n",
    "As we are using error, the aim is to reach zero error, so we can easiy follow the gradients down hill to find zero. This is known as gradient descent."
   ]
  },
  {
   "cell_type": "code",
   "execution_count": 6,
   "metadata": {
    "collapsed": false
   },
   "outputs": [
    {
     "data": {
      "text/plain": [
       "<matplotlib.text.Text at 0x10604ccf8>"
      ]
     },
     "execution_count": 6,
     "metadata": {},
     "output_type": "execute_result"
    },
    {
     "data": {
      "image/png": "[encoded data removed]",
      "text/plain": [
       "<matplotlib.figure.Figure at 0x1040a5ba8>"
      ]
     },
     "metadata": {},
     "output_type": "display_data"
    }
   ],
   "source": [
    "error = ((target - outputs)**2)/2\n",
    "plt.plot(outputs,error)\n",
    "plt.xlabel('Output')\n",
    "plt.ylabel('Error')"
   ]
  },
  {
   "cell_type": "markdown",
   "metadata": {},
   "source": [
    "\n",
    "##### Softmax and cross entropy\n",
    "\n",
    "\n",
    "\n",
    "\n",
    "\n",
    "\n",
    "### Applications and loss functions\n",
    "\n",
    "##### Regression ... \n",
    "\n",
    "##### Classification\n",
    "\n",
    "##### ???"
   ]
  },
  {
   "cell_type": "code",
   "execution_count": null,
   "metadata": {
    "collapsed": true
   },
   "outputs": [],
   "source": []
  },
  {
   "cell_type": "code",
   "execution_count": null,
   "metadata": {
    "collapsed": true
   },
   "outputs": [],
   "source": []
  },
  {
   "cell_type": "code",
   "execution_count": null,
   "metadata": {
    "collapsed": true
   },
   "outputs": [],
   "source": []
  },
  {
   "cell_type": "markdown",
   "metadata": {
    "collapsed": true
   },
   "source": [
    "### PID controls\n",
    "\n",
    "Laplace, frequency?!?\n",
    "\n",
    "So the loss function is really just a feedback loop. (insert pic) So what if we used derivative or integral control? Estimators, ... what else can we use from controls theory?\n",
    "\n",
    "### Learn\n",
    "\n",
    "What if we used a second neural net to learn mappings from output to loss values? (insert pic)\n",
    "\n",
    "### Disguised loss functions\n",
    "\n",
    "Contrastive divergence, hebbian learning, competitive learning, q-learning? ... ?"
   ]
  },
  {
   "cell_type": "code",
   "execution_count": null,
   "metadata": {
    "collapsed": true
   },
   "outputs": [],
   "source": []
  },
  {
   "cell_type": "markdown",
   "metadata": {
    "collapsed": true
   },
   "source": [
    "### Questions future investigation\n",
    "\n",
    "* How can we find the maximum amount of information we can be given about how to find states with less loss?\n",
    "* \n",
    "\n",
    "\n",
    "### Further reading, references and sources\n",
    "\n",
    "???\n",
    "Wikipedia!\n",
    "[Cross entropy](https://jamesmccaffrey.wordpress.com/2013/11/05/why-you-should-use-cross-entropy-error-instead-of-classification-error-or-mean-squared-error-for-neural-network-classifier-training/)\n"
   ]
  }
 ],
 "metadata": {
  "kernelspec": {
   "display_name": "Python 3",
   "language": "python",
   "name": "python3"
  },
  "language_info": {
   "codemirror_mode": {
    "name": "ipython",
    "version": 3
   },
   "file_extension": ".py",
   "mimetype": "text/x-python",
   "name": "python",
   "nbconvert_exporter": "python",
   "pygments_lexer": "ipython3",
   "version": "3.4.4"
  }
 },
 "nbformat": 4,
 "nbformat_minor": 0
}
